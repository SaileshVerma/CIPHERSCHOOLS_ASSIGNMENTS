{
 "cells": [
  {
   "cell_type": "markdown",
   "metadata": {},
   "source": [
    " **Q-1. Write a program to get a user input in the form of a list data type.\n",
    " <br>\n",
    " Return a list by removing all the duplicates.\n",
    " <br>\n",
    "Sample Input -> [4, 4, 5, 6, 8, 4, 5]\n",
    "<br>\n",
    "Output -> [4, 5, 6, 8]**\n",
    "   "
   ]
  },
  {
   "cell_type": "code",
   "execution_count": 4,
   "metadata": {},
   "outputs": [
    {
     "name": "stdout",
     "output_type": "stream",
     "text": [
      "enter the number of elements :3\n",
      "enter element :1\n",
      "enter element :1\n",
      "enter element :2\n",
      "your list is : [1, 1, 2]\n",
      "after removing duplicate values : [1, 2]\n"
     ]
    },
    {
     "data": {
      "text/plain": [
       "int"
      ]
     },
     "execution_count": 4,
     "metadata": {},
     "output_type": "execute_result"
    }
   ],
   "source": [
    "lst=list()\n",
    "n= int(input(\"enter the number of elements :\"))\n",
    "for i in range(0,n):\n",
    "    element=int(input(\"enter element :\"))\n",
    "    lst.append(element)\n",
    "print(\"your list is :\",lst)    \n",
    "s=list(set(lst))\n",
    "print(\"after removing duplicate values :\",s)\n"
   ]
  },
  {
   "cell_type": "markdown",
   "metadata": {},
   "source": [
    "**Q-2. Write a program to create a user defined tuple with ‘int’ data type and perform the following operations:\n",
    "<br>\n",
    "    Find the length of tuples\n",
    "    <br>\n",
    "    Find the sum of all the elements of a tuple\n",
    "    <br>\n",
    "    Find the largest and smallest elements of a tuple**\n"
   ]
  },
  {
   "cell_type": "code",
   "execution_count": 1,
   "metadata": {},
   "outputs": [
    {
     "name": "stdout",
     "output_type": "stream",
     "text": [
      "length of the given tuple is : 5\n",
      "sum of the elements is : 65\n",
      "largest element is : 55\n",
      "smallest element is : 1\n"
     ]
    }
   ],
   "source": [
    "tp=(1,2,3,4,55)\n",
    "print(\"length of the given tuple is :\",len(tp))\n",
    "print(\"sum of the elements is :\",sum(tp))\n",
    "print(\"largest element is :\",max(tp))\n",
    "print(\"smallest element is :\",min(tp))\n"
   ]
  },
  {
   "cell_type": "markdown",
   "metadata": {},
   "source": [
    "**Q-3. Given a number and ith bit, change the ith bit of that number to 1.\n",
    "<br>\n",
    "Sample Input -> num = 13, i = 1\n",
    "<br>\n",
    "Output -> 15\n",
    "<br>\n",
    "Explanation -> 13 can be represented as 1101 in binary. Now if we set the 1st bit of this binary represented value,\n",
    "<br>\n",
    "we will get 1111 (i.e. 15) as output.**\n"
   ]
  },
  {
   "cell_type": "code",
   "execution_count": 29,
   "metadata": {},
   "outputs": [
    {
     "name": "stdout",
     "output_type": "stream",
     "text": [
      "enter the number :13\n",
      "enter the ith position :1\n",
      "15\n"
     ]
    }
   ],
   "source": [
    "num=int(input(\"enter the number :\"))\n",
    "i=int(input(\"enter the ith position :\"))\n",
    "mask=1<<i\n",
    "a=num|mask\n",
    "print(a)"
   ]
  },
  {
   "cell_type": "markdown",
   "metadata": {},
   "source": [
    "**Q-4. Given a number, print 1 if the number is odd otherwise print 0.**"
   ]
  },
  {
   "cell_type": "code",
   "execution_count": 5,
   "metadata": {},
   "outputs": [
    {
     "name": "stdout",
     "output_type": "stream",
     "text": [
      "enter the number :111\n",
      "1\n"
     ]
    }
   ],
   "source": [
    "num=int(input(\"enter the number :\"))\n",
    "\n",
    "print(num&1)\n"
   ]
  },
  {
   "cell_type": "markdown",
   "metadata": {},
   "source": [
    "**Q-5. Given two lists of integers A and B. Write a program to merge them into a single sorted list that contains every \n",
    "<br>\n",
    "item from list A and B in ascending order.**"
   ]
  },
  {
   "cell_type": "code",
   "execution_count": 11,
   "metadata": {},
   "outputs": [
    {
     "name": "stdout",
     "output_type": "stream",
     "text": [
      "[1, 2, 3, 3, 4, 5, 6, 7, 11]\n"
     ]
    }
   ],
   "source": [
    "a=[1,2,11,3]\n",
    "b=[4,5,6,7,3]\n",
    "c=a+b\n",
    "print(sorted(c))\n",
    "\n"
   ]
  },
  {
   "cell_type": "markdown",
   "metadata": {},
   "source": [
    "**Q-6. Create a user defined dictionary to store names and marks of 5 students. Sort the dictionary according to marks \n",
    "<br>\n",
    "and return this sorted dictionary to the user.\n",
    "<br>\n",
    "Sample Input -> {'Berlin': 70, 'Oslo':0, 'Moscow':50, 'Nairobi':100}\n",
    "<br>\n",
    "Output -> {'Oslo':0, 'Moscow':50, 'Berlin': 70, 'Nairobi':100}**\n"
   ]
  },
  {
   "cell_type": "code",
   "execution_count": 30,
   "metadata": {},
   "outputs": [
    {
     "name": "stdout",
     "output_type": "stream",
     "text": [
      "currrent dict is : {'rohan': 70, 'ram': 40, 'ajay': 90, 'rishabh': 80, 'rahul': 30}\n",
      "sorted dictionary is : {'rahul': 30, 'ram': 40, 'rohan': 70, 'rishabh': 80, 'ajay': 90}\n"
     ]
    }
   ],
   "source": [
    "d= {\"rohan\":70,\"ram\":40,\"gaurav\":90,\"rishabh\":80,\"rahul\":30}\n",
    "print(\"currrent dict is :\",d)\n",
    "lst=list()\n",
    "for k,v in d.items():\n",
    "    lst.append((v,k))\n",
    "lst=sorted(lst) \n",
    "\n",
    "d.clear()\n",
    "\n",
    "for v,k in lst:\n",
    "    d[k]=v\n",
    "    \n",
    "\n",
    "print(\"sorted dictionary is :\",d)   \n",
    "\n",
    "    \n",
    "        "
   ]
  },
  {
   "cell_type": "code",
   "execution_count": null,
   "metadata": {},
   "outputs": [],
   "source": []
  }
 ],
 "metadata": {
  "kernelspec": {
   "display_name": "Python 3",
   "language": "python",
   "name": "python3"
  },
  "language_info": {
   "codemirror_mode": {
    "name": "ipython",
    "version": 3
   },
   "file_extension": ".py",
   "mimetype": "text/x-python",
   "name": "python",
   "nbconvert_exporter": "python",
   "pygments_lexer": "ipython3",
   "version": "3.8.3rc1"
  }
 },
 "nbformat": 4,
 "nbformat_minor": 4
}
